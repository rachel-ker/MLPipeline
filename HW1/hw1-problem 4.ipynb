{
 "cells": [
  {
   "cell_type": "markdown",
   "metadata": {},
   "source": [
    "# HW1 Problem 4"
   ]
  },
  {
   "cell_type": "markdown",
   "metadata": {},
   "source": [
    "**Assume you are running the 911 call center for Chicago. You get a call from someone at\n",
    "2111 S Michigan Ave. Of the types of crimes you have data for, which crime type is the most likely\n",
    "given the call came from 2111 S Michigan Ave? What are the probabilities for\n",
    "each type of request?**\n",
    "\n",
    "The crime type most likely given that the call came from 2111 S Michigan Ave is Battery.\n",
    "\n",
    "The probability of each type of crime is given in the table below:  \n",
    "BATTERY                   0.266667  \n",
    "OTHER OFFENSE             0.216667  \n",
    "THEFT                     0.100000  \n",
    "DECEPTIVE PRACTICE        0.100000  \n",
    "CRIMINAL DAMAGE           0.100000  \n",
    "ASSAULT                   0.100000  \n",
    "ROBBERY                   0.033333  \n",
    "MOTOR VEHICLE THEFT       0.033333  \n",
    "PUBLIC PEACE VIOLATION    0.016667  \n",
    "CRIMINAL TRESPASS         0.016667  \n",
    "BURGLARY                  0.016667  "
   ]
  },
  {
   "cell_type": "code",
   "execution_count": null,
   "metadata": {},
   "outputs": [],
   "source": [
    "import pandas as pd\n",
    "import requests"
   ]
  },
  {
   "cell_type": "code",
   "execution_count": null,
   "metadata": {},
   "outputs": [],
   "source": [
    "def get_data(url):\n",
    "    '''\n",
    "    Get Data from URL using requests library\n",
    "    Inputs: url\n",
    "    Returns a pandas dataframe\n",
    "    '''\n",
    "    req = requests.get(url)\n",
    "    data = req.json()\n",
    "    df = pd.DataFrame(data)\n",
    "    return df\n",
    "\n",
    "def get_crime_data(years):\n",
    "    '''\n",
    "    Get Crime data from City of Chicago Data Portal\n",
    "    Inputs: list of years\n",
    "    Returns a pandas dataframe\n",
    "    '''\n",
    "    df = pd.DataFrame()\n",
    "    for yr in years:\n",
    "        url = ('https://data.cityofchicago.org/resource/6zsd-86xi.json?year='\n",
    "               + str(yr) + '&$limit=300000')\n",
    "        data = get_data(url)\n",
    "        df = df.append(data)\n",
    "    return df"
   ]
  },
  {
   "cell_type": "code",
   "execution_count": null,
   "metadata": {},
   "outputs": [],
   "source": [
    "data = get_crime_data([2017, 2018])"
   ]
  },
  {
   "cell_type": "code",
   "execution_count": null,
   "metadata": {
    "scrolled": true
   },
   "outputs": [],
   "source": [
    "michigan = data[data['block'] == '021XX S MICHIGAN AVE']"
   ]
  },
  {
   "cell_type": "code",
   "execution_count": null,
   "metadata": {},
   "outputs": [],
   "source": [
    "michigan.groupby('primary_type').size().sort_values(ascending=False)"
   ]
  },
  {
   "cell_type": "code",
   "execution_count": null,
   "metadata": {},
   "outputs": [],
   "source": [
    "michigan.groupby('primary_type').size().sort_values(ascending=False).apply(lambda x: x/len(michigan))"
   ]
  },
  {
   "cell_type": "markdown",
   "metadata": {},
   "source": [
    "**Let’s now assume that a call comes in about Theft. Which is more likely – that the\n",
    "call came from Garfield Park or Uptown? How much more or less likely is it to be\n",
    "from Garfield Park vs Uptown?**\n",
    "\n",
    "It is more likely that the call came from Uptown.\n",
    "There is a 12.1% probability that the call came from Garfield Park and 27.2% probability that the call came from Uptown. There is 15.1% more chance that the call came from Uptown than Garfield Park."
   ]
  },
  {
   "cell_type": "code",
   "execution_count": null,
   "metadata": {},
   "outputs": [],
   "source": [
    "gar = data[(data['community_area']=='26') | (data['community_area']=='27')]"
   ]
  },
  {
   "cell_type": "code",
   "execution_count": null,
   "metadata": {},
   "outputs": [],
   "source": [
    "uptown = data[data['community_area']=='3']"
   ]
  },
  {
   "cell_type": "code",
   "execution_count": null,
   "metadata": {
    "scrolled": true
   },
   "outputs": [],
   "source": [
    "gar_theft = gar.groupby('primary_type').size().sort_values(ascending=False).apply(lambda x:x/len(gar))['THEFT']"
   ]
  },
  {
   "cell_type": "code",
   "execution_count": null,
   "metadata": {},
   "outputs": [],
   "source": [
    "uptown_theft = uptown.groupby('primary_type').size().sort_values(ascending=False).apply(lambda x:x/len(uptown))['THEFT']"
   ]
  },
  {
   "cell_type": "code",
   "execution_count": null,
   "metadata": {},
   "outputs": [],
   "source": [
    "gar_theft"
   ]
  },
  {
   "cell_type": "code",
   "execution_count": null,
   "metadata": {},
   "outputs": [],
   "source": [
    "uptown_theft"
   ]
  },
  {
   "cell_type": "code",
   "execution_count": null,
   "metadata": {},
   "outputs": [],
   "source": [
    "uptown_theft - gar_theft"
   ]
  }
 ],
 "metadata": {
  "kernelspec": {
   "display_name": "Python 3",
   "language": "python",
   "name": "python3"
  },
  "language_info": {
   "codemirror_mode": {
    "name": "ipython",
    "version": 3
   },
   "file_extension": ".py",
   "mimetype": "text/x-python",
   "name": "python",
   "nbconvert_exporter": "python",
   "pygments_lexer": "ipython3",
   "version": "3.6.4"
  }
 },
 "nbformat": 4,
 "nbformat_minor": 2
}
